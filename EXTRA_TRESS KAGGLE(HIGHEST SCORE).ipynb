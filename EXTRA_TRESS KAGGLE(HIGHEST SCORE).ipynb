{
  "cells": [
    {
      "metadata": {
        "_uuid": "8f2839f25d086af736a60e9eeb907d3b93b6e0e5",
        "_cell_guid": "b1076dfc-b9ad-4769-8c92-a6c4dae69d19",
        "trusted": true
      },
      "cell_type": "code",
      "source": "import pandas as pd\nimport numpy as np\nimport matplotlib.pyplot as plt\nfrom sklearn.preprocessing import StandardScaler\nfrom sklearn.preprocessing import LabelEncoder, OneHotEncoder\nfrom sklearn.cross_validation import train_test_split\nfrom sklearn.ensemble import RandomForestClassifier\nfrom sklearn import ensemble\nfrom sklearn.metrics import accuracy_score\nimport math",
      "execution_count": 1,
      "outputs": [
        {
          "output_type": "stream",
          "text": "/opt/conda/lib/python3.6/site-packages/sklearn/cross_validation.py:41: DeprecationWarning: This module was deprecated in version 0.18 in favor of the model_selection module into which all the refactored classes and functions are moved. Also note that the interface of the new CV iterators are different from that of this module. This module will be removed in 0.20.\n  \"This module will be removed in 0.20.\", DeprecationWarning)\n",
          "name": "stderr"
        }
      ]
    },
    {
      "metadata": {
        "_cell_guid": "79c7e3d0-c299-4dcb-8224-4455121ee9b0",
        "_uuid": "d629ff2d2480ee46fbb7e2d37f6b5fab8052498a",
        "trusted": true
      },
      "cell_type": "code",
      "source": "train = pd.read_csv(\"../input/train.csv\")\ntest = pd.read_csv(\"../input/test.csv\")",
      "execution_count": 3,
      "outputs": []
    },
    {
      "metadata": {
        "trusted": true,
        "_uuid": "0d815c798c6980a73409016612d3a8340770e613"
      },
      "cell_type": "code",
      "source": "train['HF1'] = train['Horizontal_Distance_To_Hydrology']+train['Horizontal_Distance_To_Fire_Points']\ntrain['HF2'] = abs(train['Horizontal_Distance_To_Hydrology']-train['Horizontal_Distance_To_Fire_Points'])\ntrain['HR1'] = abs(train['Horizontal_Distance_To_Hydrology']+train['Horizontal_Distance_To_Roadways'])\ntrain['HR2'] = abs(train['Horizontal_Distance_To_Hydrology']-train['Horizontal_Distance_To_Roadways'])\ntrain['FR1'] = abs(train['Horizontal_Distance_To_Fire_Points']+train['Horizontal_Distance_To_Roadways'])\ntrain['FR2'] = abs(train['Horizontal_Distance_To_Fire_Points']-train['Horizontal_Distance_To_Roadways'])\ntrain['neg_ele_vert'] = train.Elevation-train.Vertical_Distance_To_Hydrology\ntrain['ele_vert'] = train['Elevation']+train['Vertical_Distance_To_Hydrology']\n#Amenities\ntrain['Mean_Amenities']=(train.Horizontal_Distance_To_Fire_Points + train.Horizontal_Distance_To_Hydrology + train.Horizontal_Distance_To_Roadways) / 3 \n#Mean Distance to Fire and Water \ntrain['Mean_Fire_Hyd']=(train.Horizontal_Distance_To_Fire_Points + train.Horizontal_Distance_To_Hydrology) / 2 \n#Slope calc\ntrain['slope2'] = np.sqrt(train['Horizontal_Distance_To_Hydrology']**2+train['Vertical_Distance_To_Hydrology']**2)\n#Mean Hillside\ntrain['mean_hillshade'] =  (train['Hillshade_9am']  + train['Hillshade_Noon'] + train['Hillshade_3pm'] ) / 3\n#Absolute value\ntrain[\"Vertical_Distance_To_Hydrology\"] = abs(train['Vertical_Distance_To_Hydrology'])\ntrain['Neg_EHyd'] = train.Elevation-train.Horizontal_Distance_To_Hydrology*0.2\n#Added recently\ntrain['Mean_HorizontalHydrology_HorizontalFire'] = (train['Horizontal_Distance_To_Hydrology']+train['Horizontal_Distance_To_Fire_Points'])/2\ntrain['Mean_HorizontalHydrology_HorizontalRoadways'] = (train['Horizontal_Distance_To_Hydrology']+train['Horizontal_Distance_To_Roadways'])/2\ntrain['Mean_HorizontalFire_Points_HorizontalRoadways'] = (train['Horizontal_Distance_To_Fire_Points']+train['Horizontal_Distance_To_Roadways'])/2\ntrain['Horizontal_Distance_To_Roadways_Log'] = [math.log(v+1) for v in train['Horizontal_Distance_To_Roadways']]\ntrain['MeanNeg_Mean_HorizontalHydrology_HorizontalFire'] = (train['Horizontal_Distance_To_Hydrology']-train['Horizontal_Distance_To_Fire_Points'])/2\ntrain['MeanNeg_HorizontalHydrology_HorizontalRoadways'] = (train['Horizontal_Distance_To_Hydrology']-train['Horizontal_Distance_To_Roadways'])/2\ntrain['MeanNeg_HorizontalFire_Points_HorizontalRoadways'] = (train['Horizontal_Distance_To_Fire_Points']-train['Horizontal_Distance_To_Roadways'])/2\ntrain['Mean_Fire_Hydrology_Roadways']=(train['Horizontal_Distance_To_Fire_Points'] + train['Horizontal_Distance_To_Hydrology'] + train['Horizontal_Distance_To_Roadways']) / 3",
      "execution_count": 4,
      "outputs": []
    },
    {
      "metadata": {
        "trusted": true,
        "_uuid": "a5a2b2ba4d65d6f0621643d52c3dce66b06f8a2f"
      },
      "cell_type": "code",
      "source": "#Same for test\ntest['HF1'] = test['Horizontal_Distance_To_Hydrology']+test['Horizontal_Distance_To_Fire_Points']\ntest['HF2'] = abs(test['Horizontal_Distance_To_Hydrology']-test['Horizontal_Distance_To_Fire_Points'])\ntest['HR1'] = abs(test['Horizontal_Distance_To_Hydrology']+test['Horizontal_Distance_To_Roadways'])\ntest['HR2'] = abs(test['Horizontal_Distance_To_Hydrology']-test['Horizontal_Distance_To_Roadways'])\ntest['FR1'] = abs(test['Horizontal_Distance_To_Fire_Points']+test['Horizontal_Distance_To_Roadways'])\ntest['FR2'] = abs(test['Horizontal_Distance_To_Fire_Points']-test['Horizontal_Distance_To_Roadways'])\ntest['neg_ele_vert'] = test.Elevation-test.Vertical_Distance_To_Hydrology\ntest['ele_vert'] = test['Elevation']+test['Vertical_Distance_To_Hydrology']\n#Amenities\ntest['Mean_Amenities']=(test.Horizontal_Distance_To_Fire_Points + test.Horizontal_Distance_To_Hydrology + test.Horizontal_Distance_To_Roadways) / 3 \n#Mean Distance to Fire and Water \ntest['Mean_Fire_Hyd']=(test.Horizontal_Distance_To_Fire_Points + test.Horizontal_Distance_To_Hydrology) / 2 \n#Slope calc\ntest['slope2'] = np.sqrt(test['Horizontal_Distance_To_Hydrology']**2+test['Vertical_Distance_To_Hydrology']**2)\n#Mean Hillside\ntest['mean_hillshade'] =  (test['Hillshade_9am']  + test['Hillshade_Noon'] + test['Hillshade_3pm'] ) / 3\n#Absolute value\ntest[\"Vertical_Distance_To_Hydrology\"] = abs(test['Vertical_Distance_To_Hydrology'])\ntest['Neg_EHyd'] = test.Elevation-test.Horizontal_Distance_To_Hydrology*0.2\n\n#Added Recently\ntest['Mean_HorizontalHydrology_HorizontalFire'] = (test['Horizontal_Distance_To_Hydrology']+test['Horizontal_Distance_To_Fire_Points'])/2\ntest['Mean_HorizontalHydrology_HorizontalRoadways'] = (test['Horizontal_Distance_To_Hydrology']+test['Horizontal_Distance_To_Roadways'])/2\ntest['Mean_HorizontalFire_Points_HorizontalRoadways'] = (test['Horizontal_Distance_To_Fire_Points']+test['Horizontal_Distance_To_Roadways'])/2\ntest['Horizontal_Distance_To_Roadways_Log'] = [math.log(v+1) for v in test['Horizontal_Distance_To_Roadways']]\ntest['MeanNeg_Mean_HorizontalHydrology_HorizontalFire'] = (test['Horizontal_Distance_To_Hydrology']-test['Horizontal_Distance_To_Fire_Points'])/2\ntest['MeanNeg_HorizontalHydrology_HorizontalRoadways'] = (test['Horizontal_Distance_To_Hydrology']-test['Horizontal_Distance_To_Roadways'])/2\ntest['MeanNeg_HorizontalFire_Points_HorizontalRoadways'] = (test['Horizontal_Distance_To_Fire_Points']-test['Horizontal_Distance_To_Roadways'])/2\ntest['Mean_Fire_Hydrology_Roadways']=(test['Horizontal_Distance_To_Fire_Points'] + test['Horizontal_Distance_To_Hydrology'] + test['Horizontal_Distance_To_Roadways']) / 3",
      "execution_count": 5,
      "outputs": []
    },
    {
      "metadata": {
        "trusted": true,
        "_uuid": "eec3199aafc10100d9f1df2a7eae1291c7c8df05"
      },
      "cell_type": "code",
      "source": "new_data =train\nnew_data.columns",
      "execution_count": 6,
      "outputs": [
        {
          "output_type": "execute_result",
          "execution_count": 6,
          "data": {
            "text/plain": "Index(['Id', 'Elevation', 'Aspect', 'Slope',\n       'Horizontal_Distance_To_Hydrology', 'Vertical_Distance_To_Hydrology',\n       'Horizontal_Distance_To_Roadways', 'Hillshade_9am', 'Hillshade_Noon',\n       'Hillshade_3pm', 'Horizontal_Distance_To_Fire_Points',\n       'Wilderness_Area1', 'Wilderness_Area2', 'Wilderness_Area3',\n       'Wilderness_Area4', 'Soil_Type1', 'Soil_Type2', 'Soil_Type3',\n       'Soil_Type4', 'Soil_Type5', 'Soil_Type6', 'Soil_Type7', 'Soil_Type8',\n       'Soil_Type9', 'Soil_Type10', 'Soil_Type11', 'Soil_Type12',\n       'Soil_Type13', 'Soil_Type14', 'Soil_Type15', 'Soil_Type16',\n       'Soil_Type17', 'Soil_Type18', 'Soil_Type19', 'Soil_Type20',\n       'Soil_Type21', 'Soil_Type22', 'Soil_Type23', 'Soil_Type24',\n       'Soil_Type25', 'Soil_Type26', 'Soil_Type27', 'Soil_Type28',\n       'Soil_Type29', 'Soil_Type30', 'Soil_Type31', 'Soil_Type32',\n       'Soil_Type33', 'Soil_Type34', 'Soil_Type35', 'Soil_Type36',\n       'Soil_Type37', 'Soil_Type38', 'Soil_Type39', 'Soil_Type40',\n       'Cover_Type', 'HF1', 'HF2', 'HR1', 'HR2', 'FR1', 'FR2', 'neg_ele_vert',\n       'ele_vert', 'Mean_Amenities', 'Mean_Fire_Hyd', 'slope2',\n       'mean_hillshade', 'Neg_EHyd', 'Mean_HorizontalHydrology_HorizontalFire',\n       'Mean_HorizontalHydrology_HorizontalRoadways',\n       'Mean_HorizontalFire_Points_HorizontalRoadways',\n       'Horizontal_Distance_To_Roadways_Log',\n       'MeanNeg_Mean_HorizontalHydrology_HorizontalFire',\n       'MeanNeg_HorizontalHydrology_HorizontalRoadways',\n       'MeanNeg_HorizontalFire_Points_HorizontalRoadways',\n       'Mean_Fire_Hydrology_Roadways'],\n      dtype='object')"
          },
          "metadata": {}
        }
      ]
    },
    {
      "metadata": {
        "trusted": true,
        "_uuid": "27c1d9041ef3c46aae242bad5b44b9c8ce6a011f"
      },
      "cell_type": "code",
      "source": "#Perform log transformations for selected features\ndef transform( df, before, after ):\n    # Note: we do different transformations depending on the sign of the feature's skew\n    print(\"%s => %s\" % (before,after))\n    fudge = 1\n    skew_sign = df[before].skew()\n    if (skew_sign > 0):\n        if (df[before].min() < 0): fudge += -(df[before].min())\n        df[after] = df[before].apply(lambda x: np.log10(x+fudge))\n    else:\n        fudge += df[before].max()\n        df[after] = df[before].apply(lambda x: np.log10(fudge-x))\n        \n    print(\"   min before:\",df[before].min())\n    print(\"   max before:\",df[before].max())\n    print(\"   skew before:\", df[before].skew())\n    print(\"   skew_after:\", df[after].skew())\n    print(\"   min after:\",df[after].min())\n    print(\"   max after:\",df[after].max())\n    return df\n\ndef apply_transformations( new_data ):\n    new_data = transform(new_data,'Horizontal_Distance_To_Hydrology', 'hd_hy_log' )\n    new_data = transform(new_data,'hd_hy_log', 'hd_hy_log_log' )\n    new_data = transform(new_data,'Vertical_Distance_To_Hydrology', 'vd_hy_log' )\n    new_data = transform(new_data,'Horizontal_Distance_To_Roadways', 'hd_rd_log' )\n    new_data = transform(new_data,'Hillshade_9am',  'hs_9_log' )\n    new_data = transform(new_data,'hs_9_log',  'hs_9_log_log' )\n    new_data = transform(new_data,'Hillshade_9am', 'hd_fp_log' )\n    return new_data\n\nnew_data = apply_transformations( new_data )\n\nnew_data.head(3)",
      "execution_count": 7,
      "outputs": [
        {
          "output_type": "stream",
          "text": "Horizontal_Distance_To_Hydrology => hd_hy_log\n   min before: 0\n   max before: 1343\n   skew before: 1.4880524908584847\n   skew_after: -1.6089165303428363\n   min after: 0.0\n   max after: 3.1283992687178066\nhd_hy_log => hd_hy_log_log\n   min before: 0.0\n   max before: 3.1283992687178066\n   skew before: -1.6089165303428363\n   skew_after: 0.9246254698830114\n   min after: 1.9286549331065737e-16\n   max after: 0.6157816924504698\nVertical_Distance_To_Hydrology => vd_hy_log\n   min before: 0\n   max before: 554\n   skew before: 1.6962270549665721\n   skew_after: -0.6844403563777758\n   min after: 0.0\n   max after: 2.7442929831226763\nHorizontal_Distance_To_Roadways => hd_rd_log\n   min before: 0\n   max before: 6890\n   skew before: 1.247810678465482\n   skew_after: -0.6892190307043152\n   min after: 0.0\n   max after: 3.8382822499146885\nHillshade_9am => hs_9_log\n   min before: 0\n   max before: 254\n   skew before: -1.0936805605383073\n   skew_after: -1.1362708484557602\n   min after: 0.0\n   max after: 2.406540180433955\nhs_9_log => hs_9_log_log\n   min before: 0.0\n   max before: 2.406540180433955\n   skew before: -1.1362708484557602\n   skew_after: 0.5140142107416029\n   min after: 0.0\n   max after: 0.5323135158463349\nHillshade_9am => hd_fp_log\n   min before: 0\n   max before: 254\n   skew before: -1.0936805605383073\n   skew_after: -1.1362708484557602\n   min after: 0.0\n   max after: 2.406540180433955\n",
          "name": "stdout"
        },
        {
          "output_type": "execute_result",
          "execution_count": 7,
          "data": {
            "text/plain": "   Id  Elevation  Aspect    ...      hs_9_log  hs_9_log_log  hd_fp_log\n0   1       2596      51    ...      1.531479      0.273015   1.531479\n1   2       2590      56    ...      1.544068      0.270090   1.544068\n2   3       2804     139    ...      1.322219      0.318965   1.322219\n\n[3 rows x 84 columns]",
            "text/html": "<div>\n<style scoped>\n    .dataframe tbody tr th:only-of-type {\n        vertical-align: middle;\n    }\n\n    .dataframe tbody tr th {\n        vertical-align: top;\n    }\n\n    .dataframe thead th {\n        text-align: right;\n    }\n</style>\n<table border=\"1\" class=\"dataframe\">\n  <thead>\n    <tr style=\"text-align: right;\">\n      <th></th>\n      <th>Id</th>\n      <th>Elevation</th>\n      <th>Aspect</th>\n      <th>Slope</th>\n      <th>Horizontal_Distance_To_Hydrology</th>\n      <th>Vertical_Distance_To_Hydrology</th>\n      <th>Horizontal_Distance_To_Roadways</th>\n      <th>Hillshade_9am</th>\n      <th>Hillshade_Noon</th>\n      <th>Hillshade_3pm</th>\n      <th>Horizontal_Distance_To_Fire_Points</th>\n      <th>Wilderness_Area1</th>\n      <th>Wilderness_Area2</th>\n      <th>Wilderness_Area3</th>\n      <th>Wilderness_Area4</th>\n      <th>Soil_Type1</th>\n      <th>Soil_Type2</th>\n      <th>Soil_Type3</th>\n      <th>Soil_Type4</th>\n      <th>Soil_Type5</th>\n      <th>Soil_Type6</th>\n      <th>Soil_Type7</th>\n      <th>Soil_Type8</th>\n      <th>Soil_Type9</th>\n      <th>Soil_Type10</th>\n      <th>Soil_Type11</th>\n      <th>Soil_Type12</th>\n      <th>Soil_Type13</th>\n      <th>Soil_Type14</th>\n      <th>Soil_Type15</th>\n      <th>Soil_Type16</th>\n      <th>Soil_Type17</th>\n      <th>Soil_Type18</th>\n      <th>Soil_Type19</th>\n      <th>Soil_Type20</th>\n      <th>Soil_Type21</th>\n      <th>Soil_Type22</th>\n      <th>Soil_Type23</th>\n      <th>Soil_Type24</th>\n      <th>Soil_Type25</th>\n      <th>...</th>\n      <th>Soil_Type30</th>\n      <th>Soil_Type31</th>\n      <th>Soil_Type32</th>\n      <th>Soil_Type33</th>\n      <th>Soil_Type34</th>\n      <th>Soil_Type35</th>\n      <th>Soil_Type36</th>\n      <th>Soil_Type37</th>\n      <th>Soil_Type38</th>\n      <th>Soil_Type39</th>\n      <th>Soil_Type40</th>\n      <th>Cover_Type</th>\n      <th>HF1</th>\n      <th>HF2</th>\n      <th>HR1</th>\n      <th>HR2</th>\n      <th>FR1</th>\n      <th>FR2</th>\n      <th>neg_ele_vert</th>\n      <th>ele_vert</th>\n      <th>Mean_Amenities</th>\n      <th>Mean_Fire_Hyd</th>\n      <th>slope2</th>\n      <th>mean_hillshade</th>\n      <th>Neg_EHyd</th>\n      <th>Mean_HorizontalHydrology_HorizontalFire</th>\n      <th>Mean_HorizontalHydrology_HorizontalRoadways</th>\n      <th>Mean_HorizontalFire_Points_HorizontalRoadways</th>\n      <th>Horizontal_Distance_To_Roadways_Log</th>\n      <th>MeanNeg_Mean_HorizontalHydrology_HorizontalFire</th>\n      <th>MeanNeg_HorizontalHydrology_HorizontalRoadways</th>\n      <th>MeanNeg_HorizontalFire_Points_HorizontalRoadways</th>\n      <th>Mean_Fire_Hydrology_Roadways</th>\n      <th>hd_hy_log</th>\n      <th>hd_hy_log_log</th>\n      <th>vd_hy_log</th>\n      <th>hd_rd_log</th>\n      <th>hs_9_log</th>\n      <th>hs_9_log_log</th>\n      <th>hd_fp_log</th>\n    </tr>\n  </thead>\n  <tbody>\n    <tr>\n      <th>0</th>\n      <td>1</td>\n      <td>2596</td>\n      <td>51</td>\n      <td>3</td>\n      <td>258</td>\n      <td>0</td>\n      <td>510</td>\n      <td>221</td>\n      <td>232</td>\n      <td>148</td>\n      <td>6279</td>\n      <td>1</td>\n      <td>0</td>\n      <td>0</td>\n      <td>0</td>\n      <td>0</td>\n      <td>0</td>\n      <td>0</td>\n      <td>0</td>\n      <td>0</td>\n      <td>0</td>\n      <td>0</td>\n      <td>0</td>\n      <td>0</td>\n      <td>0</td>\n      <td>0</td>\n      <td>0</td>\n      <td>0</td>\n      <td>0</td>\n      <td>0</td>\n      <td>0</td>\n      <td>0</td>\n      <td>0</td>\n      <td>0</td>\n      <td>0</td>\n      <td>0</td>\n      <td>0</td>\n      <td>0</td>\n      <td>0</td>\n      <td>0</td>\n      <td>...</td>\n      <td>0</td>\n      <td>0</td>\n      <td>0</td>\n      <td>0</td>\n      <td>0</td>\n      <td>0</td>\n      <td>0</td>\n      <td>0</td>\n      <td>0</td>\n      <td>0</td>\n      <td>0</td>\n      <td>5</td>\n      <td>6537</td>\n      <td>6021</td>\n      <td>768</td>\n      <td>252</td>\n      <td>6789</td>\n      <td>5769</td>\n      <td>2596</td>\n      <td>2596</td>\n      <td>2349.000000</td>\n      <td>3268.5</td>\n      <td>258.000000</td>\n      <td>200.333333</td>\n      <td>2544.4</td>\n      <td>3268.5</td>\n      <td>384.0</td>\n      <td>3394.5</td>\n      <td>6.236370</td>\n      <td>-3010.5</td>\n      <td>-126.0</td>\n      <td>2884.5</td>\n      <td>2349.000000</td>\n      <td>2.413300</td>\n      <td>0.234289</td>\n      <td>0.000000</td>\n      <td>2.708421</td>\n      <td>1.531479</td>\n      <td>0.273015</td>\n      <td>1.531479</td>\n    </tr>\n    <tr>\n      <th>1</th>\n      <td>2</td>\n      <td>2590</td>\n      <td>56</td>\n      <td>2</td>\n      <td>212</td>\n      <td>6</td>\n      <td>390</td>\n      <td>220</td>\n      <td>235</td>\n      <td>151</td>\n      <td>6225</td>\n      <td>1</td>\n      <td>0</td>\n      <td>0</td>\n      <td>0</td>\n      <td>0</td>\n      <td>0</td>\n      <td>0</td>\n      <td>0</td>\n      <td>0</td>\n      <td>0</td>\n      <td>0</td>\n      <td>0</td>\n      <td>0</td>\n      <td>0</td>\n      <td>0</td>\n      <td>0</td>\n      <td>0</td>\n      <td>0</td>\n      <td>0</td>\n      <td>0</td>\n      <td>0</td>\n      <td>0</td>\n      <td>0</td>\n      <td>0</td>\n      <td>0</td>\n      <td>0</td>\n      <td>0</td>\n      <td>0</td>\n      <td>0</td>\n      <td>...</td>\n      <td>0</td>\n      <td>0</td>\n      <td>0</td>\n      <td>0</td>\n      <td>0</td>\n      <td>0</td>\n      <td>0</td>\n      <td>0</td>\n      <td>0</td>\n      <td>0</td>\n      <td>0</td>\n      <td>5</td>\n      <td>6437</td>\n      <td>6013</td>\n      <td>602</td>\n      <td>178</td>\n      <td>6615</td>\n      <td>5835</td>\n      <td>2596</td>\n      <td>2584</td>\n      <td>2275.666667</td>\n      <td>3218.5</td>\n      <td>212.084889</td>\n      <td>202.000000</td>\n      <td>2547.6</td>\n      <td>3218.5</td>\n      <td>301.0</td>\n      <td>3307.5</td>\n      <td>5.968708</td>\n      <td>-3006.5</td>\n      <td>-89.0</td>\n      <td>2917.5</td>\n      <td>2275.666667</td>\n      <td>2.328380</td>\n      <td>0.255277</td>\n      <td>0.845098</td>\n      <td>2.592177</td>\n      <td>1.544068</td>\n      <td>0.270090</td>\n      <td>1.544068</td>\n    </tr>\n    <tr>\n      <th>2</th>\n      <td>3</td>\n      <td>2804</td>\n      <td>139</td>\n      <td>9</td>\n      <td>268</td>\n      <td>65</td>\n      <td>3180</td>\n      <td>234</td>\n      <td>238</td>\n      <td>135</td>\n      <td>6121</td>\n      <td>1</td>\n      <td>0</td>\n      <td>0</td>\n      <td>0</td>\n      <td>0</td>\n      <td>0</td>\n      <td>0</td>\n      <td>0</td>\n      <td>0</td>\n      <td>0</td>\n      <td>0</td>\n      <td>0</td>\n      <td>0</td>\n      <td>0</td>\n      <td>0</td>\n      <td>1</td>\n      <td>0</td>\n      <td>0</td>\n      <td>0</td>\n      <td>0</td>\n      <td>0</td>\n      <td>0</td>\n      <td>0</td>\n      <td>0</td>\n      <td>0</td>\n      <td>0</td>\n      <td>0</td>\n      <td>0</td>\n      <td>0</td>\n      <td>...</td>\n      <td>0</td>\n      <td>0</td>\n      <td>0</td>\n      <td>0</td>\n      <td>0</td>\n      <td>0</td>\n      <td>0</td>\n      <td>0</td>\n      <td>0</td>\n      <td>0</td>\n      <td>0</td>\n      <td>2</td>\n      <td>6389</td>\n      <td>5853</td>\n      <td>3448</td>\n      <td>2912</td>\n      <td>9301</td>\n      <td>2941</td>\n      <td>2739</td>\n      <td>2869</td>\n      <td>3189.666667</td>\n      <td>3194.5</td>\n      <td>275.769832</td>\n      <td>202.333333</td>\n      <td>2750.4</td>\n      <td>3194.5</td>\n      <td>1724.0</td>\n      <td>4650.5</td>\n      <td>8.064951</td>\n      <td>-2926.5</td>\n      <td>-1456.0</td>\n      <td>1470.5</td>\n      <td>3189.666667</td>\n      <td>2.429752</td>\n      <td>0.230103</td>\n      <td>1.819544</td>\n      <td>3.502564</td>\n      <td>1.322219</td>\n      <td>0.318965</td>\n      <td>1.322219</td>\n    </tr>\n  </tbody>\n</table>\n</div>"
          },
          "metadata": {}
        }
      ]
    },
    {
      "metadata": {
        "trusted": true,
        "_uuid": "735a93b99137a219aea01601537e2759d74484e8"
      },
      "cell_type": "code",
      "source": "#Perform log transformations for selected features\ndef transform( df, before, after ):\n    # Note: we do different transformations depending on the sign of the feature's skew\n    print(\"%s => %s\" % (before,after))\n    fudge = 1\n    skew_sign = df[before].skew()\n    if (skew_sign > 0):\n        if (df[before].min() < 0): fudge += -(df[before].min())\n        df[after] = df[before].apply(lambda x: np.log10(x+fudge))\n    else:\n        fudge += df[before].max()\n        df[after] = df[before].apply(lambda x: np.log10(fudge-x))\n        \n    print(\"   min before:\",df[before].min())\n    print(\"   max before:\",df[before].max())\n    print(\"   skew before:\", df[before].skew())\n    print(\"   skew_after:\", df[after].skew())\n    print(\"   min after:\",df[after].min())\n    print(\"   max after:\",df[after].max())\n    return df\n\ndef apply_transformations( test ):\n    new_data = transform(test,'Horizontal_Distance_To_Hydrology', 'hd_hy_log' )\n    new_data = transform(test,'hd_hy_log', 'hd_hy_log_log' )\n    new_data = transform(test,'Vertical_Distance_To_Hydrology', 'vd_hy_log' )\n    new_data = transform(test,'Horizontal_Distance_To_Roadways', 'hd_rd_log' )\n    new_data = transform(test,'Hillshade_9am',  'hs_9_log' )\n    new_data = transform(test,'hs_9_log',  'hs_9_log_log' )\n    new_data = transform(test,'Hillshade_9am', 'hd_fp_log' )\n    return test\n\ntest = apply_transformations( test )\n\ntest.head(3)",
      "execution_count": 8,
      "outputs": [
        {
          "output_type": "stream",
          "text": "Horizontal_Distance_To_Hydrology => hd_hy_log\n   min before: 0\n   max before: 1397\n   skew before: 1.1331633214850105\n   skew_after: -2.1432538021430383\n   min after: 0.0\n   max after: 3.1455071714096627\nhd_hy_log => hd_hy_log_log\n   min before: 0.0\n   max before: 3.1455071714096627\n   skew before: -2.1432538021430383\n   skew_after: 1.0498352741243326\n   min after: 0.0\n   max after: 0.6175776707778166\nVertical_Distance_To_Hydrology => vd_hy_log\n   min before: 0\n   max before: 601\n   skew before: 2.0831936279967076\n   skew_after: -0.6969564146783217\n   min after: 0.0\n   max after: 2.7795964912578244\nHorizontal_Distance_To_Roadways => hd_rd_log\n   min before: 0\n   max before: 7117\n   skew before: 0.7019111290273155\n   skew_after: -1.0059269968361004\n   min after: 0.0\n   max after: 3.8523579836678272\nHillshade_9am => hs_9_log\n   min before: 0\n   max before: 254\n   skew before: -1.184138141158081\n   skew_after: -1.0397513153568247\n   min after: 0.0\n   max after: 2.406540180433955\nhs_9_log => hs_9_log_log\n   min before: 0.0\n   max before: 2.406540180433955\n   skew before: -1.0397513153568247\n   skew_after: 0.38003216907169934\n   min after: 0.0\n   max after: 0.5323135158463349\nHillshade_9am => hd_fp_log\n   min before: 0\n   max before: 254\n   skew before: -1.184138141158081\n   skew_after: -1.0397513153568247\n   min after: 0.0\n   max after: 2.406540180433955\n",
          "name": "stdout"
        },
        {
          "output_type": "execute_result",
          "execution_count": 8,
          "data": {
            "text/plain": "      Id  Elevation  Aspect    ...      hs_9_log  hs_9_log_log  hd_fp_log\n0  15121       2680     354    ...      1.770852      0.213701   1.770852\n1  15122       2683       0    ...      1.732394      0.223793   1.732394\n2  15123       2713      16    ...      1.690196      0.234604   1.690196\n\n[3 rows x 83 columns]",
            "text/html": "<div>\n<style scoped>\n    .dataframe tbody tr th:only-of-type {\n        vertical-align: middle;\n    }\n\n    .dataframe tbody tr th {\n        vertical-align: top;\n    }\n\n    .dataframe thead th {\n        text-align: right;\n    }\n</style>\n<table border=\"1\" class=\"dataframe\">\n  <thead>\n    <tr style=\"text-align: right;\">\n      <th></th>\n      <th>Id</th>\n      <th>Elevation</th>\n      <th>Aspect</th>\n      <th>Slope</th>\n      <th>Horizontal_Distance_To_Hydrology</th>\n      <th>Vertical_Distance_To_Hydrology</th>\n      <th>Horizontal_Distance_To_Roadways</th>\n      <th>Hillshade_9am</th>\n      <th>Hillshade_Noon</th>\n      <th>Hillshade_3pm</th>\n      <th>Horizontal_Distance_To_Fire_Points</th>\n      <th>Wilderness_Area1</th>\n      <th>Wilderness_Area2</th>\n      <th>Wilderness_Area3</th>\n      <th>Wilderness_Area4</th>\n      <th>Soil_Type1</th>\n      <th>Soil_Type2</th>\n      <th>Soil_Type3</th>\n      <th>Soil_Type4</th>\n      <th>Soil_Type5</th>\n      <th>Soil_Type6</th>\n      <th>Soil_Type7</th>\n      <th>Soil_Type8</th>\n      <th>Soil_Type9</th>\n      <th>Soil_Type10</th>\n      <th>Soil_Type11</th>\n      <th>Soil_Type12</th>\n      <th>Soil_Type13</th>\n      <th>Soil_Type14</th>\n      <th>Soil_Type15</th>\n      <th>Soil_Type16</th>\n      <th>Soil_Type17</th>\n      <th>Soil_Type18</th>\n      <th>Soil_Type19</th>\n      <th>Soil_Type20</th>\n      <th>Soil_Type21</th>\n      <th>Soil_Type22</th>\n      <th>Soil_Type23</th>\n      <th>Soil_Type24</th>\n      <th>Soil_Type25</th>\n      <th>...</th>\n      <th>Soil_Type29</th>\n      <th>Soil_Type30</th>\n      <th>Soil_Type31</th>\n      <th>Soil_Type32</th>\n      <th>Soil_Type33</th>\n      <th>Soil_Type34</th>\n      <th>Soil_Type35</th>\n      <th>Soil_Type36</th>\n      <th>Soil_Type37</th>\n      <th>Soil_Type38</th>\n      <th>Soil_Type39</th>\n      <th>Soil_Type40</th>\n      <th>HF1</th>\n      <th>HF2</th>\n      <th>HR1</th>\n      <th>HR2</th>\n      <th>FR1</th>\n      <th>FR2</th>\n      <th>neg_ele_vert</th>\n      <th>ele_vert</th>\n      <th>Mean_Amenities</th>\n      <th>Mean_Fire_Hyd</th>\n      <th>slope2</th>\n      <th>mean_hillshade</th>\n      <th>Neg_EHyd</th>\n      <th>Mean_HorizontalHydrology_HorizontalFire</th>\n      <th>Mean_HorizontalHydrology_HorizontalRoadways</th>\n      <th>Mean_HorizontalFire_Points_HorizontalRoadways</th>\n      <th>Horizontal_Distance_To_Roadways_Log</th>\n      <th>MeanNeg_Mean_HorizontalHydrology_HorizontalFire</th>\n      <th>MeanNeg_HorizontalHydrology_HorizontalRoadways</th>\n      <th>MeanNeg_HorizontalFire_Points_HorizontalRoadways</th>\n      <th>Mean_Fire_Hydrology_Roadways</th>\n      <th>hd_hy_log</th>\n      <th>hd_hy_log_log</th>\n      <th>vd_hy_log</th>\n      <th>hd_rd_log</th>\n      <th>hs_9_log</th>\n      <th>hs_9_log_log</th>\n      <th>hd_fp_log</th>\n    </tr>\n  </thead>\n  <tbody>\n    <tr>\n      <th>0</th>\n      <td>15121</td>\n      <td>2680</td>\n      <td>354</td>\n      <td>14</td>\n      <td>0</td>\n      <td>0</td>\n      <td>2684</td>\n      <td>196</td>\n      <td>214</td>\n      <td>156</td>\n      <td>6645</td>\n      <td>1</td>\n      <td>0</td>\n      <td>0</td>\n      <td>0</td>\n      <td>0</td>\n      <td>0</td>\n      <td>0</td>\n      <td>0</td>\n      <td>0</td>\n      <td>0</td>\n      <td>0</td>\n      <td>0</td>\n      <td>0</td>\n      <td>0</td>\n      <td>0</td>\n      <td>0</td>\n      <td>0</td>\n      <td>0</td>\n      <td>0</td>\n      <td>0</td>\n      <td>0</td>\n      <td>0</td>\n      <td>0</td>\n      <td>0</td>\n      <td>0</td>\n      <td>0</td>\n      <td>0</td>\n      <td>0</td>\n      <td>0</td>\n      <td>...</td>\n      <td>1</td>\n      <td>0</td>\n      <td>0</td>\n      <td>0</td>\n      <td>0</td>\n      <td>0</td>\n      <td>0</td>\n      <td>0</td>\n      <td>0</td>\n      <td>0</td>\n      <td>0</td>\n      <td>0</td>\n      <td>6645</td>\n      <td>6645</td>\n      <td>2684</td>\n      <td>2684</td>\n      <td>9329</td>\n      <td>3961</td>\n      <td>2680</td>\n      <td>2680</td>\n      <td>3109.666667</td>\n      <td>3322.5</td>\n      <td>0.0</td>\n      <td>188.666667</td>\n      <td>2680.0</td>\n      <td>3322.5</td>\n      <td>1342.0</td>\n      <td>4664.5</td>\n      <td>7.895436</td>\n      <td>-3322.5</td>\n      <td>-1342.0</td>\n      <td>1980.5</td>\n      <td>3109.666667</td>\n      <td>0.0</td>\n      <td>0.617578</td>\n      <td>0.0</td>\n      <td>3.428944</td>\n      <td>1.770852</td>\n      <td>0.213701</td>\n      <td>1.770852</td>\n    </tr>\n    <tr>\n      <th>1</th>\n      <td>15122</td>\n      <td>2683</td>\n      <td>0</td>\n      <td>13</td>\n      <td>0</td>\n      <td>0</td>\n      <td>2654</td>\n      <td>201</td>\n      <td>216</td>\n      <td>152</td>\n      <td>6675</td>\n      <td>1</td>\n      <td>0</td>\n      <td>0</td>\n      <td>0</td>\n      <td>0</td>\n      <td>0</td>\n      <td>0</td>\n      <td>0</td>\n      <td>0</td>\n      <td>0</td>\n      <td>0</td>\n      <td>0</td>\n      <td>0</td>\n      <td>0</td>\n      <td>0</td>\n      <td>0</td>\n      <td>0</td>\n      <td>0</td>\n      <td>0</td>\n      <td>0</td>\n      <td>0</td>\n      <td>0</td>\n      <td>0</td>\n      <td>0</td>\n      <td>0</td>\n      <td>0</td>\n      <td>0</td>\n      <td>0</td>\n      <td>0</td>\n      <td>...</td>\n      <td>1</td>\n      <td>0</td>\n      <td>0</td>\n      <td>0</td>\n      <td>0</td>\n      <td>0</td>\n      <td>0</td>\n      <td>0</td>\n      <td>0</td>\n      <td>0</td>\n      <td>0</td>\n      <td>0</td>\n      <td>6675</td>\n      <td>6675</td>\n      <td>2654</td>\n      <td>2654</td>\n      <td>9329</td>\n      <td>4021</td>\n      <td>2683</td>\n      <td>2683</td>\n      <td>3109.666667</td>\n      <td>3337.5</td>\n      <td>0.0</td>\n      <td>189.666667</td>\n      <td>2683.0</td>\n      <td>3337.5</td>\n      <td>1327.0</td>\n      <td>4664.5</td>\n      <td>7.884200</td>\n      <td>-3337.5</td>\n      <td>-1327.0</td>\n      <td>2010.5</td>\n      <td>3109.666667</td>\n      <td>0.0</td>\n      <td>0.617578</td>\n      <td>0.0</td>\n      <td>3.424065</td>\n      <td>1.732394</td>\n      <td>0.223793</td>\n      <td>1.732394</td>\n    </tr>\n    <tr>\n      <th>2</th>\n      <td>15123</td>\n      <td>2713</td>\n      <td>16</td>\n      <td>15</td>\n      <td>0</td>\n      <td>0</td>\n      <td>2980</td>\n      <td>206</td>\n      <td>208</td>\n      <td>137</td>\n      <td>6344</td>\n      <td>1</td>\n      <td>0</td>\n      <td>0</td>\n      <td>0</td>\n      <td>0</td>\n      <td>0</td>\n      <td>0</td>\n      <td>0</td>\n      <td>0</td>\n      <td>0</td>\n      <td>0</td>\n      <td>0</td>\n      <td>0</td>\n      <td>0</td>\n      <td>0</td>\n      <td>0</td>\n      <td>0</td>\n      <td>0</td>\n      <td>0</td>\n      <td>0</td>\n      <td>0</td>\n      <td>0</td>\n      <td>0</td>\n      <td>0</td>\n      <td>0</td>\n      <td>0</td>\n      <td>0</td>\n      <td>0</td>\n      <td>0</td>\n      <td>...</td>\n      <td>1</td>\n      <td>0</td>\n      <td>0</td>\n      <td>0</td>\n      <td>0</td>\n      <td>0</td>\n      <td>0</td>\n      <td>0</td>\n      <td>0</td>\n      <td>0</td>\n      <td>0</td>\n      <td>0</td>\n      <td>6344</td>\n      <td>6344</td>\n      <td>2980</td>\n      <td>2980</td>\n      <td>9324</td>\n      <td>3364</td>\n      <td>2713</td>\n      <td>2713</td>\n      <td>3108.000000</td>\n      <td>3172.0</td>\n      <td>0.0</td>\n      <td>183.666667</td>\n      <td>2713.0</td>\n      <td>3172.0</td>\n      <td>1490.0</td>\n      <td>4662.0</td>\n      <td>8.000014</td>\n      <td>-3172.0</td>\n      <td>-1490.0</td>\n      <td>1682.0</td>\n      <td>3108.000000</td>\n      <td>0.0</td>\n      <td>0.617578</td>\n      <td>0.0</td>\n      <td>3.474362</td>\n      <td>1.690196</td>\n      <td>0.234604</td>\n      <td>1.690196</td>\n    </tr>\n  </tbody>\n</table>\n</div>"
          },
          "metadata": {}
        }
      ]
    },
    {
      "metadata": {
        "trusted": true,
        "_uuid": "ae37897ece668130cf3e11818a68c5500f76f773"
      },
      "cell_type": "code",
      "source": "Drop_features = ['Id','Soil_Type7','Soil_Type15','Horizontal_Distance_To_Hydrology','hd_hy_log','Vertical_Distance_To_Hydrology','Horizontal_Distance_To_Roadways',\n                 'Hillshade_9am','hs_9_log','Horizontal_Distance_To_Fire_Points','Cover_Type']\nDrop_features_test = ['Id','Soil_Type7','Soil_Type15','Horizontal_Distance_To_Hydrology','hd_hy_log','Vertical_Distance_To_Hydrology','Horizontal_Distance_To_Roadways',\n                 'Hillshade_9am','hs_9_log','Horizontal_Distance_To_Fire_Points']\nfeatures = new_data.copy().drop(Drop_features, axis=1)\nfeatures_test = test.copy().drop(Drop_features_test, axis=1)",
      "execution_count": 9,
      "outputs": []
    },
    {
      "metadata": {
        "trusted": true,
        "_uuid": "13a4de8a9dcf40338878481c806274f6385c2cd3"
      },
      "cell_type": "code",
      "source": "classes  = new_data['Cover_Type']",
      "execution_count": 11,
      "outputs": []
    },
    {
      "metadata": {
        "trusted": true,
        "_uuid": "7169f285e5b72dc2b9c1fe18b73118d57bd29f89"
      },
      "cell_type": "code",
      "source": "from sklearn import ensemble\netc = ensemble.ExtraTreesClassifier(n_estimators=1000,max_features=10)  \netc.fit(features,classes)",
      "execution_count": 12,
      "outputs": [
        {
          "output_type": "execute_result",
          "execution_count": 12,
          "data": {
            "text/plain": "ExtraTreesClassifier(bootstrap=False, class_weight=None, criterion='gini',\n           max_depth=None, max_features=10, max_leaf_nodes=None,\n           min_impurity_decrease=0.0, min_impurity_split=None,\n           min_samples_leaf=1, min_samples_split=2,\n           min_weight_fraction_leaf=0.0, n_estimators=1000, n_jobs=None,\n           oob_score=False, random_state=None, verbose=0, warm_start=False)"
          },
          "metadata": {}
        }
      ]
    },
    {
      "metadata": {
        "trusted": true,
        "_uuid": "ee62ea4d93a84ca30a29e95adca34e7c5f120c6e"
      },
      "cell_type": "code",
      "source": "y_pred = etc.predict(features_test)",
      "execution_count": null,
      "outputs": []
    },
    {
      "metadata": {
        "trusted": true,
        "_uuid": "16c39a48a1d0ad30e3db84703f50c5d81312596e"
      },
      "cell_type": "code",
      "source": "sub = {'Id':test[\"Id\"].values,'Cover_Type':y_pred.astype('int')}",
      "execution_count": null,
      "outputs": []
    },
    {
      "metadata": {
        "trusted": true,
        "_uuid": "874124ba28256dd3006a906d4dfcb75590ac90e6"
      },
      "cell_type": "code",
      "source": "sub = pd.DataFrame(data=sub)",
      "execution_count": null,
      "outputs": []
    },
    {
      "metadata": {
        "trusted": true,
        "_uuid": "22fb238f14055449deb4046d840b9c9ca83b228d"
      },
      "cell_type": "code",
      "source": "sub.to_csv(\"ExtraTreesClassifier.csv\", index=False)",
      "execution_count": null,
      "outputs": []
    }
  ],
  "metadata": {
    "kernelspec": {
      "display_name": "Python 3",
      "language": "python",
      "name": "python3"
    },
    "language_info": {
      "name": "python",
      "version": "3.6.6",
      "mimetype": "text/x-python",
      "codemirror_mode": {
        "name": "ipython",
        "version": 3
      },
      "pygments_lexer": "ipython3",
      "nbconvert_exporter": "python",
      "file_extension": ".py"
    }
  },
  "nbformat": 4,
  "nbformat_minor": 1
}