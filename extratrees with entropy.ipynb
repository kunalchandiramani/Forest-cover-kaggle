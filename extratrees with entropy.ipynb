{
  "cells": [
    {
      "metadata": {
        "_uuid": "90e88a551c55f5624890bdafd50d97ef01456478",
        "trusted": true
      },
      "cell_type": "code",
      "source": "import pandas as pd\nimport numpy as np\nimport matplotlib.pyplot as plt\nfrom sklearn.preprocessing import StandardScaler\nfrom sklearn.preprocessing import LabelEncoder, OneHotEncoder\nfrom sklearn.cross_validation import train_test_split\nfrom sklearn.ensemble import RandomForestClassifier\nfrom sklearn import ensemble\nfrom sklearn.metrics import accuracy_score\nimport math",
      "execution_count": null,
      "outputs": []
    },
    {
      "metadata": {
        "_uuid": "e00da5d9fe9676abdbb5c10056c70d1a8bc0ac9f",
        "trusted": true
      },
      "cell_type": "code",
      "source": "train = pd.read_csv(\"../input/train.csv\")\ntest = pd.read_csv(\"../input/test.csv\")",
      "execution_count": null,
      "outputs": []
    },
    {
      "metadata": {
        "_uuid": "55f93eb564f7f495ac7bd2a5ee9c0ab1f54b3cd6",
        "trusted": true
      },
      "cell_type": "code",
      "source": "train['HF1'] = train['Horizontal_Distance_To_Hydrology']+train['Horizontal_Distance_To_Fire_Points']\ntrain['HF2'] = abs(train['Horizontal_Distance_To_Hydrology']-train['Horizontal_Distance_To_Fire_Points'])\ntrain['HR1'] = abs(train['Horizontal_Distance_To_Hydrology']+train['Horizontal_Distance_To_Roadways'])\ntrain['HR2'] = abs(train['Horizontal_Distance_To_Hydrology']-train['Horizontal_Distance_To_Roadways'])\ntrain['FR1'] = abs(train['Horizontal_Distance_To_Fire_Points']+train['Horizontal_Distance_To_Roadways'])\ntrain['FR2'] = abs(train['Horizontal_Distance_To_Fire_Points']-train['Horizontal_Distance_To_Roadways'])\ntrain['neg_ele_vert'] = train.Elevation-train.Vertical_Distance_To_Hydrology\ntrain['ele_vert'] = train['Elevation']+train['Vertical_Distance_To_Hydrology']\n#Amenities\ntrain['Mean_Amenities']=(train.Horizontal_Distance_To_Fire_Points + train.Horizontal_Distance_To_Hydrology + train.Horizontal_Distance_To_Roadways) / 3 \n#Mean Distance to Fire and Water \ntrain['Mean_Fire_Hyd']=(train.Horizontal_Distance_To_Fire_Points + train.Horizontal_Distance_To_Hydrology) / 2 \n#Slope calc\ntrain['slope2'] = np.sqrt(train['Horizontal_Distance_To_Hydrology']**2+train['Vertical_Distance_To_Hydrology']**2)\n#Mean Hillside\ntrain['mean_hillshade'] =  (train['Hillshade_9am']  + train['Hillshade_Noon'] + train['Hillshade_3pm'] ) / 3\n#Absolute value\ntrain[\"Vertical_Distance_To_Hydrology\"] = abs(train['Vertical_Distance_To_Hydrology'])\ntrain['Neg_EHyd'] = train.Elevation-train.Horizontal_Distance_To_Hydrology*0.2\n#Added recently\ntrain['Mean_HorizontalHydrology_HorizontalFire'] = (train['Horizontal_Distance_To_Hydrology']+train['Horizontal_Distance_To_Fire_Points'])/2\ntrain['Mean_HorizontalHydrology_HorizontalRoadways'] = (train['Horizontal_Distance_To_Hydrology']+train['Horizontal_Distance_To_Roadways'])/2\ntrain['Mean_HorizontalFire_Points_HorizontalRoadways'] = (train['Horizontal_Distance_To_Fire_Points']+train['Horizontal_Distance_To_Roadways'])/2\ntrain['Horizontal_Distance_To_Roadways_Log'] = [math.log(v+1) for v in train['Horizontal_Distance_To_Roadways']]\ntrain['MeanNeg_Mean_HorizontalHydrology_HorizontalFire'] = (train['Horizontal_Distance_To_Hydrology']-train['Horizontal_Distance_To_Fire_Points'])/2\ntrain['MeanNeg_HorizontalHydrology_HorizontalRoadways'] = (train['Horizontal_Distance_To_Hydrology']-train['Horizontal_Distance_To_Roadways'])/2\ntrain['MeanNeg_HorizontalFire_Points_HorizontalRoadways'] = (train['Horizontal_Distance_To_Fire_Points']-train['Horizontal_Distance_To_Roadways'])/2\ntrain['Mean_Fire_Hydrology_Roadways']=(train['Horizontal_Distance_To_Fire_Points'] + train['Horizontal_Distance_To_Hydrology'] + train['Horizontal_Distance_To_Roadways']) / 3",
      "execution_count": null,
      "outputs": []
    },
    {
      "metadata": {
        "_uuid": "4e76e99de6c634ac9e9a1cb2789480822b859599",
        "trusted": true
      },
      "cell_type": "code",
      "source": "#Same for test\ntest['HF1'] = test['Horizontal_Distance_To_Hydrology']+test['Horizontal_Distance_To_Fire_Points']\ntest['HF2'] = abs(test['Horizontal_Distance_To_Hydrology']-test['Horizontal_Distance_To_Fire_Points'])\ntest['HR1'] = abs(test['Horizontal_Distance_To_Hydrology']+test['Horizontal_Distance_To_Roadways'])\ntest['HR2'] = abs(test['Horizontal_Distance_To_Hydrology']-test['Horizontal_Distance_To_Roadways'])\ntest['FR1'] = abs(test['Horizontal_Distance_To_Fire_Points']+test['Horizontal_Distance_To_Roadways'])\ntest['FR2'] = abs(test['Horizontal_Distance_To_Fire_Points']-test['Horizontal_Distance_To_Roadways'])\ntest['neg_ele_vert'] = test.Elevation-test.Vertical_Distance_To_Hydrology\ntest['ele_vert'] = test['Elevation']+test['Vertical_Distance_To_Hydrology']\n#Amenities\ntest['Mean_Amenities']=(test.Horizontal_Distance_To_Fire_Points + test.Horizontal_Distance_To_Hydrology + test.Horizontal_Distance_To_Roadways) / 3 \n#Mean Distance to Fire and Water \ntest['Mean_Fire_Hyd']=(test.Horizontal_Distance_To_Fire_Points + test.Horizontal_Distance_To_Hydrology) / 2 \n#Slope calc\ntest['slope2'] = np.sqrt(test['Horizontal_Distance_To_Hydrology']**2+test['Vertical_Distance_To_Hydrology']**2)\n#Mean Hillside\ntest['mean_hillshade'] =  (test['Hillshade_9am']  + test['Hillshade_Noon'] + test['Hillshade_3pm'] ) / 3\n#Absolute value\ntest[\"Vertical_Distance_To_Hydrology\"] = abs(test['Vertical_Distance_To_Hydrology'])\ntest['Neg_EHyd'] = test.Elevation-test.Horizontal_Distance_To_Hydrology*0.2\n\n#Added Recently\ntest['Mean_HorizontalHydrology_HorizontalFire'] = (test['Horizontal_Distance_To_Hydrology']+test['Horizontal_Distance_To_Fire_Points'])/2\ntest['Mean_HorizontalHydrology_HorizontalRoadways'] = (test['Horizontal_Distance_To_Hydrology']+test['Horizontal_Distance_To_Roadways'])/2\ntest['Mean_HorizontalFire_Points_HorizontalRoadways'] = (test['Horizontal_Distance_To_Fire_Points']+test['Horizontal_Distance_To_Roadways'])/2\ntest['Horizontal_Distance_To_Roadways_Log'] = [math.log(v+1) for v in test['Horizontal_Distance_To_Roadways']]\ntest['MeanNeg_Mean_HorizontalHydrology_HorizontalFire'] = (test['Horizontal_Distance_To_Hydrology']-test['Horizontal_Distance_To_Fire_Points'])/2\ntest['MeanNeg_HorizontalHydrology_HorizontalRoadways'] = (test['Horizontal_Distance_To_Hydrology']-test['Horizontal_Distance_To_Roadways'])/2\ntest['MeanNeg_HorizontalFire_Points_HorizontalRoadways'] = (test['Horizontal_Distance_To_Fire_Points']-test['Horizontal_Distance_To_Roadways'])/2\ntest['Mean_Fire_Hydrology_Roadways']=(test['Horizontal_Distance_To_Fire_Points'] + test['Horizontal_Distance_To_Hydrology'] + test['Horizontal_Distance_To_Roadways']) / 3",
      "execution_count": null,
      "outputs": []
    },
    {
      "metadata": {
        "trusted": true,
        "_uuid": "e264d1489b41f12efc56b2d60db41332085571e6"
      },
      "cell_type": "code",
      "source": "new_data =train\nnew_data.columns",
      "execution_count": null,
      "outputs": []
    },
    {
      "metadata": {
        "trusted": true,
        "_uuid": "9290ec7365e6ee430241d0519a5a3d0ceea8510b"
      },
      "cell_type": "code",
      "source": "#Perform log transformations for selected features\ndef transform( df, before, after ):\n    # Note: we do different transformations depending on the sign of the feature's skew\n    print(\"%s => %s\" % (before,after))\n    fudge = 1\n    skew_sign = df[before].skew()\n    if (skew_sign > 0):\n        if (df[before].min() < 0): fudge += -(df[before].min())\n        df[after] = df[before].apply(lambda x: np.log10(x+fudge))\n    else:\n        fudge += df[before].max()\n        df[after] = df[before].apply(lambda x: np.log10(fudge-x))\n        \n    print(\"   min before:\",df[before].min())\n    print(\"   max before:\",df[before].max())\n    print(\"   skew before:\", df[before].skew())\n    print(\"   skew_after:\", df[after].skew())\n    print(\"   min after:\",df[after].min())\n    print(\"   max after:\",df[after].max())\n    return df\n\ndef apply_transformations( new_data ):\n    new_data = transform(new_data,'Horizontal_Distance_To_Hydrology', 'hd_hy_log' )\n    new_data = transform(new_data,'hd_hy_log', 'hd_hy_log_log' )\n    new_data = transform(new_data,'Vertical_Distance_To_Hydrology', 'vd_hy_log' )\n    new_data = transform(new_data,'Horizontal_Distance_To_Roadways', 'hd_rd_log' )\n    new_data = transform(new_data,'Hillshade_9am',  'hs_9_log' )\n    new_data = transform(new_data,'hs_9_log',  'hs_9_log_log' )\n    new_data = transform(new_data,'Hillshade_9am', 'hd_fp_log' )\n    return new_data\n\nnew_data = apply_transformations( new_data )\n\nnew_data.head(3)",
      "execution_count": null,
      "outputs": []
    },
    {
      "metadata": {
        "trusted": true,
        "_uuid": "82e893f1a0c7bba6eee673deb870622a2da711e8"
      },
      "cell_type": "code",
      "source": "#Perform log transformations for selected features\ndef transform( df, before, after ):\n    # Note: we do different transformations depending on the sign of the feature's skew\n    print(\"%s => %s\" % (before,after))\n    fudge = 1\n    skew_sign = df[before].skew()\n    if (skew_sign > 0):\n        if (df[before].min() < 0): fudge += -(df[before].min())\n        df[after] = df[before].apply(lambda x: np.log10(x+fudge))\n    else:\n        fudge += df[before].max()\n        df[after] = df[before].apply(lambda x: np.log10(fudge-x))\n        \n    print(\"   min before:\",df[before].min())\n    print(\"   max before:\",df[before].max())\n    print(\"   skew before:\", df[before].skew())\n    print(\"   skew_after:\", df[after].skew())\n    print(\"   min after:\",df[after].min())\n    print(\"   max after:\",df[after].max())\n    return df\n\ndef apply_transformations( test ):\n    new_data = transform(test,'Horizontal_Distance_To_Hydrology', 'hd_hy_log' )\n    new_data = transform(test,'hd_hy_log', 'hd_hy_log_log' )\n    new_data = transform(test,'Vertical_Distance_To_Hydrology', 'vd_hy_log' )\n    new_data = transform(test,'Horizontal_Distance_To_Roadways', 'hd_rd_log' )\n    new_data = transform(test,'Hillshade_9am',  'hs_9_log' )\n    new_data = transform(test,'hs_9_log',  'hs_9_log_log' )\n    new_data = transform(test,'Hillshade_9am', 'hd_fp_log' )\n    return test\n\ntest = apply_transformations( test )\n\ntest.head(3)",
      "execution_count": null,
      "outputs": []
    },
    {
      "metadata": {
        "trusted": true,
        "_uuid": "c041253a6d5ec48a3cd1d3323ff08f390abfe529"
      },
      "cell_type": "code",
      "source": "Drop_features = ['Id','Soil_Type7','Soil_Type15','Horizontal_Distance_To_Hydrology','hd_hy_log','Vertical_Distance_To_Hydrology','Horizontal_Distance_To_Roadways',\n                 'Hillshade_9am','hs_9_log','Horizontal_Distance_To_Fire_Points','Cover_Type']\nDrop_features_test = ['Id','Soil_Type7','Soil_Type15','Horizontal_Distance_To_Hydrology','hd_hy_log','Vertical_Distance_To_Hydrology','Horizontal_Distance_To_Roadways',\n                 'Hillshade_9am','hs_9_log','Horizontal_Distance_To_Fire_Points']\nfeatures = new_data.copy().drop(Drop_features, axis=1)\nfeatures_test = test.copy().drop(Drop_features_test, axis=1)",
      "execution_count": null,
      "outputs": []
    },
    {
      "metadata": {
        "trusted": true,
        "_uuid": "ed0e0635c2e06c9a220493d188baba9b48d2ff7b"
      },
      "cell_type": "code",
      "source": "",
      "execution_count": null,
      "outputs": []
    },
    {
      "metadata": {
        "trusted": true,
        "_uuid": "8a53fd5ae3de28df4e48ea59042f2da59acf203b"
      },
      "cell_type": "code",
      "source": "classes  = new_data['Cover_Type']",
      "execution_count": null,
      "outputs": []
    },
    {
      "metadata": {
        "trusted": true,
        "_uuid": "da8d70d738966d6c1570183ebfbcddd40d67f76e"
      },
      "cell_type": "code",
      "source": "from sklearn import ensemble\netc = ensemble.ExtraTreesClassifier(n_estimators=1000,max_features=10,oob_score=True,n_jobs=4,bootstrap=True)  \netc.fit(X_train,y_train)",
      "execution_count": null,
      "outputs": []
    },
    {
      "metadata": {
        "trusted": true,
        "_uuid": "78a93c4fb7b0a4195db278a57120d6def1245b4b"
      },
      "cell_type": "code",
      "source": "y_pred = etc.predict(features_test)",
      "execution_count": null,
      "outputs": []
    },
    {
      "metadata": {
        "trusted": true,
        "_uuid": "be44463b0e3b63caf06134ce3d14f5549ae96a0f"
      },
      "cell_type": "code",
      "source": "sub = {'Id':test[\"Id\"].values,'Cover_Type':y_pred.astype('int')}",
      "execution_count": null,
      "outputs": []
    },
    {
      "metadata": {
        "trusted": true,
        "_uuid": "a92cd9ade90dda58cb575e66758f680d2107eb7a"
      },
      "cell_type": "code",
      "source": "sub = pd.DataFrame(data=sub)",
      "execution_count": null,
      "outputs": []
    },
    {
      "metadata": {
        "trusted": true,
        "_uuid": "9ffb324b7f590a9f8a4f97876400607e477db546"
      },
      "cell_type": "code",
      "source": "sub",
      "execution_count": null,
      "outputs": []
    },
    {
      "metadata": {
        "trusted": true,
        "_uuid": "0c45147d31258c9724cc45c68445d557e4d5aab2"
      },
      "cell_type": "code",
      "source": "sub.to_csv(\"ExtraTreesClassifier.csv\", index=False)",
      "execution_count": null,
      "outputs": []
    },
    {
      "metadata": {
        "trusted": true,
        "_uuid": "e74429cfad93c8dfe57a7d208023d71bef841e3b"
      },
      "cell_type": "code",
      "source": "",
      "execution_count": null,
      "outputs": []
    }
  ],
  "metadata": {
    "kernelspec": {
      "display_name": "Python 3",
      "language": "python",
      "name": "python3"
    },
    "language_info": {
      "name": "python",
      "version": "3.6.6",
      "mimetype": "text/x-python",
      "codemirror_mode": {
        "name": "ipython",
        "version": 3
      },
      "pygments_lexer": "ipython3",
      "nbconvert_exporter": "python",
      "file_extension": ".py"
    }
  },
  "nbformat": 4,
  "nbformat_minor": 1
}