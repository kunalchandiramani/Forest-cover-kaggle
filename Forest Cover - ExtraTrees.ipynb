{
  "cells": [
    {
      "metadata": {
        "trusted": true,
        "_uuid": "90e88a551c55f5624890bdafd50d97ef01456478"
      },
      "cell_type": "code",
      "source": "import pandas as pd\nimport numpy as np\nimport matplotlib.pyplot as plt\nfrom sklearn.preprocessing import StandardScaler\nfrom sklearn.preprocessing import LabelEncoder, OneHotEncoder\nfrom sklearn.cross_validation import train_test_split\nfrom sklearn.ensemble import RandomForestClassifier\nfrom sklearn import ensemble\nfrom sklearn.metrics import accuracy_score",
      "execution_count": null,
      "outputs": []
    },
    {
      "metadata": {
        "trusted": true,
        "_uuid": "e00da5d9fe9676abdbb5c10056c70d1a8bc0ac9f"
      },
      "cell_type": "code",
      "source": "train = pd.read_csv(\"../input/train.csv\")\ntest = pd.read_csv(\"../input/test.csv\")",
      "execution_count": null,
      "outputs": []
    },
    {
      "metadata": {
        "trusted": true,
        "_uuid": "55f93eb564f7f495ac7bd2a5ee9c0ab1f54b3cd6"
      },
      "cell_type": "code",
      "source": "train['HF1'] = train['Horizontal_Distance_To_Hydrology']+train['Horizontal_Distance_To_Fire_Points']\ntrain['HF2'] = abs(train['Horizontal_Distance_To_Hydrology']-train['Horizontal_Distance_To_Fire_Points'])\ntrain['HR1'] = abs(train['Horizontal_Distance_To_Hydrology']+train['Horizontal_Distance_To_Roadways'])\ntrain['HR2'] = abs(train['Horizontal_Distance_To_Hydrology']-train['Horizontal_Distance_To_Roadways'])\ntrain['FR1'] = abs(train['Horizontal_Distance_To_Fire_Points']+train['Horizontal_Distance_To_Roadways'])\ntrain['FR2'] = abs(train['Horizontal_Distance_To_Fire_Points']-train['Horizontal_Distance_To_Roadways'])\ntrain['neg_ele_vert'] = train.Elevation-train.Vertical_Distance_To_Hydrology\ntrain['ele_vert'] = train['Elevation']+train['Vertical_Distance_To_Hydrology']\n#Amenities\ntrain['Mean_Amenities']=(train.Horizontal_Distance_To_Fire_Points + train.Horizontal_Distance_To_Hydrology + train.Horizontal_Distance_To_Roadways) / 3 \n#Mean Distance to Fire and Water \ntrain['Mean_Fire_Hyd']=(train.Horizontal_Distance_To_Fire_Points + train.Horizontal_Distance_To_Hydrology) / 2 \n#Slope calc\ntrain['slope2'] = np.sqrt(train['Horizontal_Distance_To_Hydrology']**2+train['Vertical_Distance_To_Hydrology']**2)\n#Mean Hillside\ntrain['mean_hillshade'] =  (train['Hillshade_9am']  + train['Hillshade_Noon'] + train['Hillshade_3pm'] ) / 3\n#Absolute value\ntrain[\"Vertical_Distance_To_Hydrology\"] = abs(train['Vertical_Distance_To_Hydrology'])\ntrain['Neg_EHyd'] = train.Elevation-train.Horizontal_Distance_To_Hydrology*0.2",
      "execution_count": null,
      "outputs": []
    },
    {
      "metadata": {
        "trusted": true,
        "_uuid": "4e76e99de6c634ac9e9a1cb2789480822b859599"
      },
      "cell_type": "code",
      "source": "#Same for test\ntest['HF1'] = test['Horizontal_Distance_To_Hydrology']+test['Horizontal_Distance_To_Fire_Points']\ntest['HF2'] = abs(test['Horizontal_Distance_To_Hydrology']-test['Horizontal_Distance_To_Fire_Points'])\ntest['HR1'] = abs(test['Horizontal_Distance_To_Hydrology']+test['Horizontal_Distance_To_Roadways'])\ntest['HR2'] = abs(test['Horizontal_Distance_To_Hydrology']-test['Horizontal_Distance_To_Roadways'])\ntest['FR1'] = abs(test['Horizontal_Distance_To_Fire_Points']+test['Horizontal_Distance_To_Roadways'])\ntest['FR2'] = abs(test['Horizontal_Distance_To_Fire_Points']-test['Horizontal_Distance_To_Roadways'])\ntest['neg_ele_vert'] = test.Elevation-test.Vertical_Distance_To_Hydrology\ntest['ele_vert'] = test['Elevation']+test['Vertical_Distance_To_Hydrology']\n#Amenities\ntest['Mean_Amenities']=(test.Horizontal_Distance_To_Fire_Points + test.Horizontal_Distance_To_Hydrology + test.Horizontal_Distance_To_Roadways) / 3 \n#Mean Distance to Fire and Water \ntest['Mean_Fire_Hyd']=(test.Horizontal_Distance_To_Fire_Points + test.Horizontal_Distance_To_Hydrology) / 2 \n#Slope calc\ntest['slope2'] = np.sqrt(test['Horizontal_Distance_To_Hydrology']**2+test['Vertical_Distance_To_Hydrology']**2)\n#Mean Hillside\ntest['mean_hillshade'] =  (test['Hillshade_9am']  + test['Hillshade_Noon'] + test['Hillshade_3pm'] ) / 3\n#Absolute value\ntest[\"Vertical_Distance_To_Hydrology\"] = abs(test['Vertical_Distance_To_Hydrology'])\ntest['Neg_EHyd'] = test.Elevation-test.Horizontal_Distance_To_Hydrology*0.2",
      "execution_count": null,
      "outputs": []
    },
    {
      "metadata": {
        "trusted": true,
        "_uuid": "4912ddc074d5f04fa81bdfcabd55e147c7679d2b"
      },
      "cell_type": "code",
      "source": "train.drop(['Id'], inplace = True, axis = 1 )\ntrain.drop(['Soil_Type15' , \"Soil_Type7\"], inplace = True, axis = 1 )\ntest.drop(['Soil_Type15' , \"Soil_Type7\"], inplace = True, axis = 1 )",
      "execution_count": null,
      "outputs": []
    },
    {
      "metadata": {
        "trusted": true,
        "_uuid": "fa8bc9780212ddb37fb8ef6025fdc2b84c91ccdd"
      },
      "cell_type": "code",
      "source": "cols=[i for i in train.columns if i not in ['Id', 'Cover_Type' ]]",
      "execution_count": null,
      "outputs": []
    },
    {
      "metadata": {
        "trusted": true,
        "_uuid": "a2fa3c407fd2069bbea20014fd193e5bea8c2ca9"
      },
      "cell_type": "code",
      "source": "X=train[cols]\nY=train.Cover_Type\nclf=RandomForestClassifier(n_estimators=500,verbose = 1,n_jobs=-1,oob_score=True,random_state=0,warm_start=True)\nclf.fit(X, Y)",
      "execution_count": null,
      "outputs": []
    },
    {
      "metadata": {
        "trusted": true,
        "_uuid": "2a797a1b3a57cfa2bb48d6ca86eaa71d93ebca94"
      },
      "cell_type": "code",
      "source": "feature_importances = pd.DataFrame(clf.feature_importances_,\n                                   index = X.columns,\n                                    columns=['importance']).sort_values('importance',ascending=False)",
      "execution_count": null,
      "outputs": []
    },
    {
      "metadata": {
        "trusted": true,
        "_uuid": "0130085a7958a913fdb76524fa29614ff699efff"
      },
      "cell_type": "code",
      "source": "feature_importances",
      "execution_count": null,
      "outputs": []
    },
    {
      "metadata": {
        "trusted": true,
        "_uuid": "6c2482c375b8ddabdcb809f7979c3bca0b466e16"
      },
      "cell_type": "code",
      "source": "scaler = StandardScaler()\n",
      "execution_count": null,
      "outputs": []
    },
    {
      "metadata": {
        "trusted": true,
        "_uuid": "09ceaf5999ef476cae5e3e48df040776593f0b73"
      },
      "cell_type": "code",
      "source": "feature = [col for col in train.columns if col not in ['Cover_Type']]\nX = train[feature]\nscaler.fit(X)\nX = scaler.transform(X)\nX_train, X_test, y_train, y_test = train_test_split(X,Y,test_size = 0.3)",
      "execution_count": null,
      "outputs": []
    },
    {
      "metadata": {
        "trusted": true,
        "_uuid": "efdaa7a32effa6d55c0d9c35062d7971c683efe6"
      },
      "cell_type": "code",
      "source": "etc = ensemble.ExtraTreesClassifier(n_estimators=1000)  \netc.fit(X_train, y_train)\ny_pred = etc.predict(X_test)",
      "execution_count": null,
      "outputs": []
    },
    {
      "metadata": {
        "trusted": true,
        "_uuid": "81dea9cbd7e47ce412cef9970caf2087927ac347"
      },
      "cell_type": "code",
      "source": "print(accuracy_score(y_test,y_pred))",
      "execution_count": null,
      "outputs": []
    },
    {
      "metadata": {
        "trusted": true,
        "_uuid": "88da3fa46e3ea93496f808d1c1bf2f6f939edf91"
      },
      "cell_type": "code",
      "source": "feature = [col for col in train.columns if col not in ['Cover_Type']]\nX = test[feature]\nX = scaler.transform(X)",
      "execution_count": null,
      "outputs": []
    },
    {
      "metadata": {
        "trusted": true,
        "_uuid": "c29dc5db0104314b195fac13f58de20c29c4cb52"
      },
      "cell_type": "code",
      "source": "y_pred = etc.predict(X)",
      "execution_count": null,
      "outputs": []
    },
    {
      "metadata": {
        "trusted": true,
        "_uuid": "24a7ace4d4d592b47e1061fa263c1dd713e4e4b0"
      },
      "cell_type": "code",
      "source": "sub = {'Id':test[\"Id\"].values,'Cover_Type':y_pred}",
      "execution_count": null,
      "outputs": []
    },
    {
      "metadata": {
        "trusted": true,
        "_uuid": "655ef48d5b1c94e8510a0c4aa2abe09d1065b459"
      },
      "cell_type": "code",
      "source": "sub = pd.DataFrame(data=sub)",
      "execution_count": null,
      "outputs": []
    },
    {
      "metadata": {
        "trusted": true,
        "_uuid": "a8933b3364d63042ad2342738f4f01514b2c1d3f"
      },
      "cell_type": "code",
      "source": "sub",
      "execution_count": null,
      "outputs": []
    },
    {
      "metadata": {
        "trusted": true,
        "_uuid": "39e47bbfadba6d45647f43e292f6910fe3fdb06d"
      },
      "cell_type": "code",
      "source": "sub.to_csv(\"ExtraTreesClassifier.csv\", index=False)",
      "execution_count": null,
      "outputs": []
    },
    {
      "metadata": {
        "trusted": true,
        "_uuid": "dd7443277beb2be37962d1ced197cb16eb9c1079"
      },
      "cell_type": "code",
      "source": "",
      "execution_count": null,
      "outputs": []
    },
    {
      "metadata": {
        "trusted": true,
        "_uuid": "e25998a2bba7aec20e2e69d99b25be2ac83aa0a4"
      },
      "cell_type": "code",
      "source": "",
      "execution_count": null,
      "outputs": []
    },
    {
      "metadata": {
        "trusted": true,
        "_uuid": "b297b21965e17030c246b1436db42badf5e69922"
      },
      "cell_type": "code",
      "source": "",
      "execution_count": null,
      "outputs": []
    },
    {
      "metadata": {
        "trusted": true,
        "_uuid": "e3b925c2f4627376c9335f4ca850e0bcba0a8a97"
      },
      "cell_type": "code",
      "source": "",
      "execution_count": null,
      "outputs": []
    },
    {
      "metadata": {
        "trusted": true,
        "_uuid": "aa1e2e9885e0eb79553bb6c005abd293f93c0d01"
      },
      "cell_type": "code",
      "source": "",
      "execution_count": null,
      "outputs": []
    },
    {
      "metadata": {
        "trusted": true,
        "_uuid": "de0e5360e777e9c2fe719541f5561b87f3d0665e"
      },
      "cell_type": "code",
      "source": "",
      "execution_count": null,
      "outputs": []
    },
    {
      "metadata": {
        "trusted": true,
        "_uuid": "1ac2a78997cfb07cdc3a2e1edcba91068b5a1656"
      },
      "cell_type": "code",
      "source": "",
      "execution_count": null,
      "outputs": []
    },
    {
      "metadata": {
        "trusted": true,
        "_uuid": "6900b283e3664e603c286d3822c36b3ab7683aa1"
      },
      "cell_type": "code",
      "source": "",
      "execution_count": null,
      "outputs": []
    },
    {
      "metadata": {
        "trusted": true,
        "_uuid": "7d6d47574ddb5825d9deb16908d3b0f4a827300f"
      },
      "cell_type": "code",
      "source": "",
      "execution_count": null,
      "outputs": []
    },
    {
      "metadata": {
        "trusted": true,
        "_uuid": "fc43df9b54596109f7165af8124434a1d0888b9f"
      },
      "cell_type": "code",
      "source": "",
      "execution_count": null,
      "outputs": []
    },
    {
      "metadata": {
        "trusted": true,
        "_uuid": "6fa403dc33098c5952a803002bbf9b0f69ddf46f"
      },
      "cell_type": "code",
      "source": "",
      "execution_count": null,
      "outputs": []
    },
    {
      "metadata": {
        "trusted": true,
        "_uuid": "581bf59d4be33d68cc487fc2052afd3966104b5d"
      },
      "cell_type": "code",
      "source": "",
      "execution_count": null,
      "outputs": []
    },
    {
      "metadata": {
        "trusted": true,
        "_uuid": "78fa318842407c5160cd9d6ea22afae351263323"
      },
      "cell_type": "code",
      "source": "",
      "execution_count": null,
      "outputs": []
    },
    {
      "metadata": {
        "trusted": true,
        "_uuid": "e5431d6f6950072d778ff3d6fc3a95d4f1bede8c"
      },
      "cell_type": "code",
      "source": "",
      "execution_count": null,
      "outputs": []
    },
    {
      "metadata": {
        "trusted": true,
        "_uuid": "1c27afe1cec42c51511b447ff4415f05eb5a8773"
      },
      "cell_type": "code",
      "source": "",
      "execution_count": null,
      "outputs": []
    },
    {
      "metadata": {
        "trusted": true,
        "_uuid": "3e93ae88e0320b5a49ac5f24cf87339cc61f9ea7"
      },
      "cell_type": "code",
      "source": "",
      "execution_count": null,
      "outputs": []
    },
    {
      "metadata": {
        "trusted": true,
        "_uuid": "fb43863908362264d4ef39f6973c372771a9d14f"
      },
      "cell_type": "code",
      "source": "",
      "execution_count": null,
      "outputs": []
    },
    {
      "metadata": {
        "trusted": true,
        "_uuid": "becacaec370f275d239fe4c435bfe494c2314718"
      },
      "cell_type": "code",
      "source": "",
      "execution_count": null,
      "outputs": []
    },
    {
      "metadata": {
        "trusted": true,
        "_uuid": "454fbbec4fd5d2503c54ae8c7d9ac2f29379f936"
      },
      "cell_type": "code",
      "source": "",
      "execution_count": null,
      "outputs": []
    },
    {
      "metadata": {
        "trusted": true,
        "_uuid": "bfc02ce015e307c9c91c0ef20eb025d4f8af4098"
      },
      "cell_type": "code",
      "source": "",
      "execution_count": null,
      "outputs": []
    }
  ],
  "metadata": {
    "kernelspec": {
      "display_name": "Python 3",
      "language": "python",
      "name": "python3"
    },
    "language_info": {
      "name": "python",
      "version": "3.6.6",
      "mimetype": "text/x-python",
      "codemirror_mode": {
        "name": "ipython",
        "version": 3
      },
      "pygments_lexer": "ipython3",
      "nbconvert_exporter": "python",
      "file_extension": ".py"
    }
  },
  "nbformat": 4,
  "nbformat_minor": 1
}
