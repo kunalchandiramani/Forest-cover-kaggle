{
 "cells": [
  {
   "cell_type": "code",
   "execution_count": null,
   "metadata": {
    "_uuid": "8d34ca1f8151bd5ba8afa387c68201084e9d28dc"
   },
   "outputs": [],
   "source": [
    "import numpy as np # linear algebra\n",
    "import pandas as pd # data processing, CSV file I/O (e.g. pd.read_csv)\n",
    "import plotly.graph_objs as go\n",
    "from plotly.offline import init_notebook_mode, iplot\n",
    "init_notebook_mode(connected=True)\n",
    "from collections import Counter\n",
    "import matplotlib.pyplot as plt\n",
    "#import seaborn as sns\n",
    "from mlxtend.classifier import StackingCVClassifier\n",
    "from sklearn.linear_model import LogisticRegression\n",
    "%matplotlib inline\n",
    "import seaborn as sns # for making plots with seaborn\n",
    "color = sns.color_palette()\n",
    "from pandas.tools.plotting import parallel_coordinates\n",
    "from sklearn.decomposition import PCA\n",
    "from sklearn import ensemble,model_selection,svm\n",
    "from xgboost import XGBClassifier\n",
    "from sklearn.ensemble import RandomForestClassifier"
   ]
  },
  {
   "cell_type": "code",
   "execution_count": null,
   "metadata": {
    "_uuid": "13fc8e474c6645298a957b06f0de7d5ac4fc961c"
   },
   "outputs": [],
   "source": [
    "train = pd.read_csv(\"../input/train.csv\")\n",
    "test = pd.read_csv(\"../input/test.csv\")"
   ]
  },
  {
   "cell_type": "code",
   "execution_count": null,
   "metadata": {
    "_uuid": "0b033324144fe18898c85724974ae3c05310e762"
   },
   "outputs": [],
   "source": [
    "def add_feats(df):\n",
    "    df['HF1'] = df['Horizontal_Distance_To_Hydrology']+df['Horizontal_Distance_To_Fire_Points']\n",
    "    df['HF2'] = (df['Horizontal_Distance_To_Hydrology']-df['Horizontal_Distance_To_Fire_Points'])\n",
    "    df['HR1'] = (df['Horizontal_Distance_To_Hydrology']+df['Horizontal_Distance_To_Roadways'])\n",
    "    df['HR2'] = (df['Horizontal_Distance_To_Hydrology']-df['Horizontal_Distance_To_Roadways'])\n",
    "    df['FR1'] = (df['Horizontal_Distance_To_Fire_Points']+df['Horizontal_Distance_To_Roadways'])\n",
    "    df['FR2'] = (df['Horizontal_Distance_To_Fire_Points']-df['Horizontal_Distance_To_Roadways'])\n",
    "    df['EV1'] = df.Elevation+df.Vertical_Distance_To_Hydrology\n",
    "    df['EV2'] = df.Elevation-df.Vertical_Distance_To_Hydrology\n",
    "    df['Mean_HF1'] = df.HF1/2\n",
    "    df['Mean_HF2'] = df.HF2/2\n",
    "    df['Mean_HR1'] = df.HR1/2\n",
    "    df['Mean_HR2'] = df.HR2/2\n",
    "    df['Mean_FR1'] = df.FR1/2\n",
    "    df['Mean_FR2'] = df.FR2/2\n",
    "    df['Mean_EV1'] = df.EV1/2\n",
    "    df['Mean_EV2'] = df.EV2/2    \n",
    "    df['Elevation_Vertical'] = df['Elevation']+df['Vertical_Distance_To_Hydrology']    \n",
    "    df['Neg_Elevation_Vertical'] = df['Elevation']-df['Vertical_Distance_To_Hydrology']\n",
    "    \n",
    "    # Given the horizontal & vertical distance to hydrology, \n",
    "    # it will be more intuitive to obtain the euclidean distance: sqrt{(verticaldistance)^2 + (horizontaldistance)^2}    \n",
    "    df['slope_hyd_sqrt'] = (df['Horizontal_Distance_To_Hydrology']**2+df['Vertical_Distance_To_Hydrology']**2)**0.5\n",
    "    df.slope_hyd_sqrt=df.slope_hyd_sqrt.map(lambda x: 0 if np.isinf(x) else x) # remove infinite value if any\n",
    "    \n",
    "    df['slope_hyd2'] = np.sqrt(df['Horizontal_Distance_To_Hydrology']**2+df['Vertical_Distance_To_Hydrology']**2)\n",
    "    df.slope_hyd2=df.slope_hyd2.map(lambda x: 0 if np.isinf(x) else x) # remove infinite value if any\n",
    "    \n",
    "    #Mean distance to Amenities \n",
    "    df['Mean_Amenities']=(df.Horizontal_Distance_To_Fire_Points + df.Horizontal_Distance_To_Hydrology + df.Horizontal_Distance_To_Roadways) / 3 \n",
    "    #Mean Distance to Fire and Water \n",
    "    df['Mean_Fire_Hyd1']=(df.Horizontal_Distance_To_Fire_Points + df.Horizontal_Distance_To_Hydrology) / 2\n",
    "    df['Mean_Fire_Hyd2']=(df.Horizontal_Distance_To_Fire_Points + df.Horizontal_Distance_To_Roadways) / 2\n",
    "    \n",
    "    #Shadiness\n",
    "    df['Shadiness_morn_noon'] = df.Hillshade_9am/(df.Hillshade_Noon+1)\n",
    "    df['Shadiness_noon_3pm'] = df.Hillshade_Noon/(df.Hillshade_3pm+1)\n",
    "    df['Shadiness_morn_3'] = df.Hillshade_9am/(df.Hillshade_3pm+1)\n",
    "    df['Shadiness_morn_avg'] = (df.Hillshade_9am+df.Hillshade_Noon)/2\n",
    "    df['Shadiness_afternoon'] = (df.Hillshade_Noon+df.Hillshade_3pm)/2\n",
    "    df['Shadiness_mean_hillshade'] =  (df['Hillshade_9am']  + df['Hillshade_Noon'] + df['Hillshade_3pm'] ) / 3    \n",
    "    \n",
    "    # Shade Difference\n",
    "    df[\"Hillshade-9_Noon_diff\"] = df[\"Hillshade_9am\"] - df[\"Hillshade_Noon\"]\n",
    "    df[\"Hillshade-noon_3pm_diff\"] = df[\"Hillshade_Noon\"] - df[\"Hillshade_3pm\"]\n",
    "    df[\"Hillshade-9am_3pm_diff\"] = df[\"Hillshade_9am\"] - df[\"Hillshade_3pm\"]\n",
    "\n",
    "    # Mountain Trees\n",
    "    df[\"Slope*Elevation\"] = df[\"Slope\"] * df[\"Elevation\"]\n",
    "    # Only some trees can grow on steep montain\n",
    "    \n",
    "    ### More features\n",
    "    df['Neg_HorizontalHydrology_HorizontalFire'] = (df['Horizontal_Distance_To_Hydrology']-df['Horizontal_Distance_To_Fire_Points'])\n",
    "    df['Neg_HorizontalHydrology_HorizontalRoadways'] = (df['Horizontal_Distance_To_Hydrology']-df['Horizontal_Distance_To_Roadways'])\n",
    "    df['Neg_HorizontalFire_Points_HorizontalRoadways'] = (df['Horizontal_Distance_To_Fire_Points']-df['Horizontal_Distance_To_Roadways'])\n",
    "    \n",
    "    df['MeanNeg_Mean_HorizontalHydrology_HorizontalFire'] = (df['Horizontal_Distance_To_Hydrology']-df['Horizontal_Distance_To_Fire_Points'])/2\n",
    "    df['MeanNeg_HorizontalHydrology_HorizontalRoadways'] = (df['Horizontal_Distance_To_Hydrology']-df['Horizontal_Distance_To_Roadways'])/2\n",
    "    df['MeanNeg_HorizontalFire_Points_HorizontalRoadways'] = (df['Horizontal_Distance_To_Fire_Points']-df['Horizontal_Distance_To_Roadways'])/2   \n",
    "        \n",
    "    df[\"Vertical_Distance_To_Hydrology\"] = abs(df['Vertical_Distance_To_Hydrology'])\n",
    "    \n",
    "    df['Neg_Elev_Hyd'] = df.Elevation-df.Horizontal_Distance_To_Hydrology*0.2\n",
    "    \n",
    "    # Bin Features\n",
    "    bin_defs = [\n",
    "        # col name, bin size, new name\n",
    "        ('Elevation', 200, 'Binned_Elevation'), # Elevation is different in train vs. test!?\n",
    "        ('Aspect', 45, 'Binned_Aspect'),\n",
    "        ('Slope', 6, 'Binned_Slope'),\n",
    "        ('Horizontal_Distance_To_Hydrology', 140, 'Binned_Horizontal_Distance_To_Hydrology'),\n",
    "        ('Horizontal_Distance_To_Roadways', 712, 'Binned_Horizontal_Distance_To_Roadways'),\n",
    "        ('Hillshade_9am', 32, 'Binned_Hillshade_9am'),\n",
    "        ('Hillshade_Noon', 32, 'Binned_Hillshade_Noon'),\n",
    "        ('Hillshade_3pm', 32, 'Binned_Hillshade_3pm'),\n",
    "        ('Horizontal_Distance_To_Fire_Points', 717, 'Binned_Horizontal_Distance_To_Fire_Points')\n",
    "    ]\n",
    "    \n",
    "    for col_name, bin_size, new_name in bin_defs:\n",
    "        df[new_name] = np.floor(df[col_name]/bin_size)\n",
    "        \n",
    "    print('Total number of features : %d' % (df.shape)[1])\n",
    "    return df"
   ]
  },
  {
   "cell_type": "code",
   "execution_count": null,
   "metadata": {
    "_uuid": "41e07db83dd81a7e3a425dbe6cee5d7e673b5fd9"
   },
   "outputs": [],
   "source": [
    "add_feats(train)\n",
    "add_feats(test)"
   ]
  },
  {
   "cell_type": "code",
   "execution_count": null,
   "metadata": {
    "_uuid": "6d6e8b5c1c1bda7ea2c35effcf1f8ebc925d541f"
   },
   "outputs": [],
   "source": [
    "train = train.drop('Elevation', axis=1)\n",
    "test = test.drop('Elevation', axis=1)   "
   ]
  },
  {
   "cell_type": "code",
   "execution_count": null,
   "metadata": {
    "_uuid": "845a8c571cf7391b2d8bf2cd5ad666f0a837bc45"
   },
   "outputs": [],
   "source": [
    "classes  = train['Cover_Type']\n",
    "features = train.drop('Cover_Type', axis=1)"
   ]
  },
  {
   "cell_type": "code",
   "execution_count": null,
   "metadata": {
    "_uuid": "5b89fb6b013aa17f238db6a256aeadd13b683909"
   },
   "outputs": [],
   "source": [
    "c1 = ensemble.ExtraTreesClassifier(n_estimators=150,bootstrap=True) \n",
    "c2= ensemble.RandomForestClassifier(n_estimators=150,bootstrap=True)\n",
    "c3=XGBClassifier();\n",
    "meta = svm.LinearSVC()\n",
    "etc = StackingCVClassifier(classifiers=[c1,c2,c3],use_probas=True,meta_classifier=meta)\n",
    "\n",
    "#parameters = {'n_estimators':np.range(100,500)}\n",
    "#gc=model_selection.GridSearchCV(parameters,etc)\n",
    "#etc=XGBClassifier();stackcv\n",
    "etc.fit(features.values,classes.values)"
   ]
  },
  {
   "cell_type": "code",
   "execution_count": null,
   "metadata": {
    "_uuid": "b4ded5b28cb69d09a696d03ea8c23ce705e2e36d"
   },
   "outputs": [],
   "source": [
    "sub = pd.DataFrame({\"Id\": test['Id'],\"Cover_Type\": etc.predict(test.values)})\n",
    "sub.to_csv(\"stackcv_linearsvc.csv\", index=False) "
   ]
  },
  {
   "cell_type": "code",
   "execution_count": null,
   "metadata": {
    "_uuid": "6e7e870bea2474335d772166967c98283fa2637a"
   },
   "outputs": [],
   "source": []
  }
 ],
 "metadata": {
  "kernelspec": {
   "display_name": "Python 3",
   "language": "python",
   "name": "python3"
  },
  "language_info": {
   "codemirror_mode": {
    "name": "ipython",
    "version": 3
   },
   "file_extension": ".py",
   "mimetype": "text/x-python",
   "name": "python",
   "nbconvert_exporter": "python",
   "pygments_lexer": "ipython3",
   "version": "3.6.5"
  }
 },
 "nbformat": 4,
 "nbformat_minor": 1
}
